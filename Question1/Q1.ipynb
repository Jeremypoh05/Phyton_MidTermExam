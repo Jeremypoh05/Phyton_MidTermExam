{
 "cells": [
  {
   "cell_type": "code",
   "execution_count": 1,
   "id": "075a9bca-2015-4d61-9b61-24a0dabaeb13",
   "metadata": {},
   "outputs": [
    {
     "name": "stdout",
     "output_type": "stream",
     "text": [
      "Welcome to Hangman!\n",
      "Instructions:\n",
      "1. You need to guess the letters in the hidden word.\n",
      "2. Each correct guess reveals the letter in the word.\n",
      "3. You have 6 incorrect guesses allowed.\n",
      "4. If you guess incorrectly, a part of the hangman will appear.\n",
      "5. If the hangman is fully drawn, you lose the game.\n",
      "6. You win if you reveal all the letters in the word.\n",
      "Let's get started!\n",
      "\n",
      "  \n",
      "           ------  \n",
      "           |    |  \n",
      "           |  \n",
      "           |  \n",
      "           |  \n",
      "           |  \n",
      "        --------  \n",
      "        \n",
      "Current word:  _ _ _ _ _ _ _ _\n",
      "Incorrect guesses: 0\n"
     ]
    },
    {
     "name": "stdin",
     "output_type": "stream",
     "text": [
      "Guess a letter:  2\n"
     ]
    },
    {
     "name": "stdout",
     "output_type": "stream",
     "text": [
      "  \n",
      "           ------  \n",
      "           |    |  \n",
      "           |    O  \n",
      "           |  \n",
      "           |  \n",
      "           |  \n",
      "        --------  \n",
      "        \n",
      "Current word:  _ _ _ _ _ _ _ _\n",
      "Incorrect guesses: 1\n"
     ]
    },
    {
     "name": "stdin",
     "output_type": "stream",
     "text": [
      "Guess a letter:  s\n"
     ]
    },
    {
     "name": "stdout",
     "output_type": "stream",
     "text": [
      "  \n",
      "           ------  \n",
      "           |    |  \n",
      "           |    O  \n",
      "           |    |  \n",
      "           |  \n",
      "           |  \n",
      "        --------  \n",
      "        \n",
      "Current word:  _ _ _ _ _ _ _ _\n",
      "Incorrect guesses: 2\n"
     ]
    },
    {
     "name": "stdin",
     "output_type": "stream",
     "text": [
      "Guess a letter:  f\n"
     ]
    },
    {
     "name": "stdout",
     "output_type": "stream",
     "text": [
      "  \n",
      "           ------  \n",
      "           |    |  \n",
      "           |    O  \n",
      "           |   /|  \n",
      "           |  \n",
      "           |  \n",
      "        --------  \n",
      "        \n",
      "Current word:  _ _ _ _ _ _ _ _\n",
      "Incorrect guesses: 3\n"
     ]
    },
    {
     "name": "stdin",
     "output_type": "stream",
     "text": [
      "Guess a letter:  z\n"
     ]
    },
    {
     "name": "stdout",
     "output_type": "stream",
     "text": [
      "  \n",
      "           ------  \n",
      "           |    |  \n",
      "           |    O  \n",
      "           |   /|\\\n",
      "           |  \n",
      "           |  \n",
      "        --------  \n",
      "        \n",
      "Current word:  _ _ _ _ _ _ _ _\n",
      "Incorrect guesses: 4\n"
     ]
    },
    {
     "name": "stdin",
     "output_type": "stream",
     "text": [
      "Guess a letter:  v\n"
     ]
    },
    {
     "name": "stdout",
     "output_type": "stream",
     "text": [
      "  \n",
      "           ------  \n",
      "           |    |  \n",
      "           |    O  \n",
      "           |   /|\\\n",
      "           |   /  \n",
      "           |  \n",
      "        --------  \n",
      "        \n",
      "Current word:  _ _ _ _ _ _ _ _\n",
      "Incorrect guesses: 5\n"
     ]
    },
    {
     "name": "stdin",
     "output_type": "stream",
     "text": [
      "Guess a letter:  i\n"
     ]
    },
    {
     "name": "stdout",
     "output_type": "stream",
     "text": [
      "  \n",
      "           ------  \n",
      "           |    |  \n",
      "           |    O  \n",
      "           |   /|\\\n",
      "           |   /  \n",
      "           |  \n",
      "        --------  \n",
      "        \n",
      "Current word:  _ _ _ _ _ _ I _\n",
      "Incorrect guesses: 5\n"
     ]
    },
    {
     "name": "stdin",
     "output_type": "stream",
     "text": [
      "Guess a letter:  k\n"
     ]
    },
    {
     "name": "stdout",
     "output_type": "stream",
     "text": [
      "  \n",
      "           ------  \n",
      "           |    |  \n",
      "           |    O  \n",
      "           |   /|\\\n",
      "           |   / \\\n",
      "           |  \n",
      "        --------  \n",
      "        \n",
      "Sorry, you ran out of guesses. The word was: PYTHONIC\n"
     ]
    },
    {
     "name": "stdin",
     "output_type": "stream",
     "text": [
      "Would you like to play again? (Press Enter to exit or type 'yes' to play again):  yes\n"
     ]
    },
    {
     "name": "stdout",
     "output_type": "stream",
     "text": [
      "Welcome to Hangman!\n",
      "Instructions:\n",
      "1. You need to guess the letters in the hidden word.\n",
      "2. Each correct guess reveals the letter in the word.\n",
      "3. You have 6 incorrect guesses allowed.\n",
      "4. If you guess incorrectly, a part of the hangman will appear.\n",
      "5. If the hangman is fully drawn, you lose the game.\n",
      "6. You win if you reveal all the letters in the word.\n",
      "Let's get started!\n",
      "\n",
      "  \n",
      "           ------  \n",
      "           |    |  \n",
      "           |  \n",
      "           |  \n",
      "           |  \n",
      "           |  \n",
      "        --------  \n",
      "        \n",
      "Current word:  _ _ _ _ _ _ _ _ _ _\n",
      "Incorrect guesses: 0\n"
     ]
    },
    {
     "name": "stdin",
     "output_type": "stream",
     "text": [
      "Guess a letter:  p\n"
     ]
    },
    {
     "name": "stdout",
     "output_type": "stream",
     "text": [
      "  \n",
      "           ------  \n",
      "           |    |  \n",
      "           |    O  \n",
      "           |  \n",
      "           |  \n",
      "           |  \n",
      "        --------  \n",
      "        \n",
      "Current word:  _ _ _ _ _ _ _ _ _ _\n",
      "Incorrect guesses: 1\n"
     ]
    },
    {
     "name": "stdin",
     "output_type": "stream",
     "text": [
      "Guess a letter:  d\n"
     ]
    },
    {
     "name": "stdout",
     "output_type": "stream",
     "text": [
      "  \n",
      "           ------  \n",
      "           |    |  \n",
      "           |    O  \n",
      "           |    |  \n",
      "           |  \n",
      "           |  \n",
      "        --------  \n",
      "        \n",
      "Current word:  _ _ _ _ _ _ _ _ _ _\n",
      "Incorrect guesses: 2\n"
     ]
    },
    {
     "name": "stdin",
     "output_type": "stream",
     "text": [
      "Guess a letter:  i\n"
     ]
    },
    {
     "name": "stdout",
     "output_type": "stream",
     "text": [
      "  \n",
      "           ------  \n",
      "           |    |  \n",
      "           |    O  \n",
      "           |    |  \n",
      "           |  \n",
      "           |  \n",
      "        --------  \n",
      "        \n",
      "Current word:  _ _ _ _ _ _ I _ _ _\n",
      "Incorrect guesses: 2\n"
     ]
    },
    {
     "name": "stdin",
     "output_type": "stream",
     "text": [
      "Guess a letter:  a\n"
     ]
    },
    {
     "name": "stdout",
     "output_type": "stream",
     "text": [
      "  \n",
      "           ------  \n",
      "           |    |  \n",
      "           |    O  \n",
      "           |   /|  \n",
      "           |  \n",
      "           |  \n",
      "        --------  \n",
      "        \n",
      "Current word:  _ _ _ _ _ _ I _ _ _\n",
      "Incorrect guesses: 3\n"
     ]
    },
    {
     "name": "stdin",
     "output_type": "stream",
     "text": [
      "Guess a letter:  p\n"
     ]
    },
    {
     "name": "stdout",
     "output_type": "stream",
     "text": [
      "You already guessed that letter.\n",
      "  \n",
      "           ------  \n",
      "           |    |  \n",
      "           |    O  \n",
      "           |   /|  \n",
      "           |  \n",
      "           |  \n",
      "        --------  \n",
      "        \n",
      "Current word:  _ _ _ _ _ _ I _ _ _\n",
      "Incorrect guesses: 3\n"
     ]
    },
    {
     "name": "stdin",
     "output_type": "stream",
     "text": [
      "Guess a letter:  m\n"
     ]
    },
    {
     "name": "stdout",
     "output_type": "stream",
     "text": [
      "  \n",
      "           ------  \n",
      "           |    |  \n",
      "           |    O  \n",
      "           |   /|  \n",
      "           |  \n",
      "           |  \n",
      "        --------  \n",
      "        \n",
      "Current word:  M _ _ _ _ _ I _ _ _\n",
      "Incorrect guesses: 3\n"
     ]
    },
    {
     "name": "stdin",
     "output_type": "stream",
     "text": [
      "Guess a letter:  y\n"
     ]
    },
    {
     "name": "stdout",
     "output_type": "stream",
     "text": [
      "  \n",
      "           ------  \n",
      "           |    |  \n",
      "           |    O  \n",
      "           |   /|  \n",
      "           |  \n",
      "           |  \n",
      "        --------  \n",
      "        \n",
      "Current word:  M Y _ _ _ _ I _ _ _\n",
      "Incorrect guesses: 3\n"
     ]
    },
    {
     "name": "stdin",
     "output_type": "stream",
     "text": [
      "Guess a letter:  s\n"
     ]
    },
    {
     "name": "stdout",
     "output_type": "stream",
     "text": [
      "  \n",
      "           ------  \n",
      "           |    |  \n",
      "           |    O  \n",
      "           |   /|  \n",
      "           |  \n",
      "           |  \n",
      "        --------  \n",
      "        \n",
      "Current word:  M Y S _ _ _ I _ _ S\n",
      "Incorrect guesses: 3\n"
     ]
    },
    {
     "name": "stdin",
     "output_type": "stream",
     "text": [
      "Guess a letter:  t\n"
     ]
    },
    {
     "name": "stdout",
     "output_type": "stream",
     "text": [
      "  \n",
      "           ------  \n",
      "           |    |  \n",
      "           |    O  \n",
      "           |   /|  \n",
      "           |  \n",
      "           |  \n",
      "        --------  \n",
      "        \n",
      "Current word:  M Y S T _ _ I _ _ S\n",
      "Incorrect guesses: 3\n"
     ]
    },
    {
     "name": "stdin",
     "output_type": "stream",
     "text": [
      "Guess a letter:  e\n"
     ]
    },
    {
     "name": "stdout",
     "output_type": "stream",
     "text": [
      "  \n",
      "           ------  \n",
      "           |    |  \n",
      "           |    O  \n",
      "           |   /|  \n",
      "           |  \n",
      "           |  \n",
      "        --------  \n",
      "        \n",
      "Current word:  M Y S T E _ I _ _ S\n",
      "Incorrect guesses: 3\n"
     ]
    },
    {
     "name": "stdin",
     "output_type": "stream",
     "text": [
      "Guess a letter:  r\n"
     ]
    },
    {
     "name": "stdout",
     "output_type": "stream",
     "text": [
      "  \n",
      "           ------  \n",
      "           |    |  \n",
      "           |    O  \n",
      "           |   /|  \n",
      "           |  \n",
      "           |  \n",
      "        --------  \n",
      "        \n",
      "Current word:  M Y S T E R I _ _ S\n",
      "Incorrect guesses: 3\n"
     ]
    },
    {
     "name": "stdin",
     "output_type": "stream",
     "text": [
      "Guess a letter:  o\n"
     ]
    },
    {
     "name": "stdout",
     "output_type": "stream",
     "text": [
      "  \n",
      "           ------  \n",
      "           |    |  \n",
      "           |    O  \n",
      "           |   /|  \n",
      "           |  \n",
      "           |  \n",
      "        --------  \n",
      "        \n",
      "Current word:  M Y S T E R I O _ S\n",
      "Incorrect guesses: 3\n"
     ]
    },
    {
     "name": "stdin",
     "output_type": "stream",
     "text": [
      "Guess a letter:  u\n"
     ]
    },
    {
     "name": "stdout",
     "output_type": "stream",
     "text": [
      "Congratulations! You guessed the word: MYSTERIOUS\n"
     ]
    },
    {
     "name": "stdin",
     "output_type": "stream",
     "text": [
      "Would you like to play again? (Press Enter to exit or type 'yes' to play again):  \n"
     ]
    },
    {
     "name": "stdout",
     "output_type": "stream",
     "text": [
      "Thank you for playing! Goodbye!\n"
     ]
    }
   ],
   "source": [
    "import random  \n",
    "\n",
    "words = [\"PROGRAMMING\", \"ADVENTURE\", \"PYTHONIC\", \"COMPUTER\", \"MYSTERIOUS\", \"DISCOVERY\", \"FANTASTIC\", \"RAINBOW\"]  \n",
    "\n",
    "while True:  \n",
    "    word = random.choice(words)  \n",
    "    word_letters = set(word)  \n",
    "    guessed_letters = set()  \n",
    "    incorrect_guesses = 0  \n",
    "    max_incorrect_guesses = 6  \n",
    "    hidden_word = [\"_\"] * len(word)  \n",
    "\n",
    "    stages = [  \n",
    "        \"\"\"  \n",
    "           ------  \n",
    "           |    |  \n",
    "           |  \n",
    "           |  \n",
    "           |  \n",
    "           |  \n",
    "        --------  \n",
    "        \"\"\",  \n",
    "        \"\"\"  \n",
    "           ------  \n",
    "           |    |  \n",
    "           |    O  \n",
    "           |  \n",
    "           |  \n",
    "           |  \n",
    "        --------  \n",
    "        \"\"\",  \n",
    "        \"\"\"  \n",
    "           ------  \n",
    "           |    |  \n",
    "           |    O  \n",
    "           |    |  \n",
    "           |  \n",
    "           |  \n",
    "        --------  \n",
    "        \"\"\",  \n",
    "        \"\"\"  \n",
    "           ------  \n",
    "           |    |  \n",
    "           |    O  \n",
    "           |   /|  \n",
    "           |  \n",
    "           |  \n",
    "        --------  \n",
    "        \"\"\",  \n",
    "        \"\"\"  \n",
    "           ------  \n",
    "           |    |  \n",
    "           |    O  \n",
    "           |   /|\\\\\n",
    "           |  \n",
    "           |  \n",
    "        --------  \n",
    "        \"\"\",  \n",
    "        \"\"\"  \n",
    "           ------  \n",
    "           |    |  \n",
    "           |    O  \n",
    "           |   /|\\\\\n",
    "           |   /  \n",
    "           |  \n",
    "        --------  \n",
    "        \"\"\",  \n",
    "        \"\"\"  \n",
    "           ------  \n",
    "           |    |  \n",
    "           |    O  \n",
    "           |   /|\\\\\n",
    "           |   / \\\\\n",
    "           |  \n",
    "        --------  \n",
    "        \"\"\"  \n",
    "    ]  \n",
    "\n",
    "    print(\"Welcome to Hangman!\")  \n",
    "    print(\"Instructions:\")  \n",
    "    print(\"1. You need to guess the letters in the hidden word.\")  \n",
    "    print(\"2. Each correct guess reveals the letter in the word.\")  \n",
    "    print(\"3. You have \" + str(max_incorrect_guesses) + \" incorrect guesses allowed.\")  \n",
    "    print(\"4. If you guess incorrectly, a part of the hangman will appear.\")  \n",
    "    print(\"5. If the hangman is fully drawn, you lose the game.\")  \n",
    "    print(\"6. You win if you reveal all the letters in the word.\")  \n",
    "    print(\"Let's get started!\\n\")  \n",
    "\n",
    "    while incorrect_guesses < max_incorrect_guesses and set(hidden_word) != word_letters:  \n",
    "        print(stages[incorrect_guesses])  \n",
    "        print(\"Current word: \", \" \".join(hidden_word))  \n",
    "        print(\"Incorrect guesses: \" + str(incorrect_guesses))  \n",
    "        guess = input(\"Guess a letter: \").upper()  \n",
    "\n",
    "        if guess in guessed_letters:  \n",
    "            print(\"You already guessed that letter.\")  \n",
    "        elif guess in word_letters:  \n",
    "            guessed_letters.add(guess)  \n",
    "            for i, letter in enumerate(word):  \n",
    "                if letter == guess:  \n",
    "                    hidden_word[i] = guess  \n",
    "        else:  \n",
    "            guessed_letters.add(guess)  \n",
    "            incorrect_guesses += 1  \n",
    "\n",
    "    if set(hidden_word) == word_letters:  \n",
    "        print(\"Congratulations! You guessed the word: \" + word)  \n",
    "    else:  \n",
    "        print(stages[incorrect_guesses])  \n",
    "        print(\"Sorry, you ran out of guesses. The word was: \" + word)  \n",
    "\n",
    "    play_again = input(\"Would you like to play again? (Press Enter to exit or type 'yes' to play again): \").strip().lower()  \n",
    "    if play_again != 'yes':  \n",
    "        print(\"Thank you for playing! Goodbye!\")  \n",
    "        break"
   ]
  },
  {
   "cell_type": "code",
   "execution_count": null,
   "id": "4cc1b1eb-343a-476f-80ff-3e46656bfa5d",
   "metadata": {},
   "outputs": [],
   "source": []
  }
 ],
 "metadata": {
  "kernelspec": {
   "display_name": "Python 3 (ipykernel)",
   "language": "python",
   "name": "python3"
  },
  "language_info": {
   "codemirror_mode": {
    "name": "ipython",
    "version": 3
   },
   "file_extension": ".py",
   "mimetype": "text/x-python",
   "name": "python",
   "nbconvert_exporter": "python",
   "pygments_lexer": "ipython3",
   "version": "3.11.7"
  }
 },
 "nbformat": 4,
 "nbformat_minor": 5
}
